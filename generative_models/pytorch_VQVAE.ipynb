{
 "cells": [
  {
   "cell_type": "markdown",
   "metadata": {},
   "source": [
    "# VQVAE implementation with pytorch"
   ]
  },
  {
   "cell_type": "markdown",
   "metadata": {},
   "source": [
    "Vector Quantization Variational AutoEncoder 在 NIPS 2017 年發表，作者加入了訊號處理中蠻有名的vector quantization方法到原本的VAE中，這篇研究達到了幾個目標\n",
    "1. 試圖將潛在特徵從連續改為離散(為了符合自然界中觀察到的現象 ex. 語言中的名詞概念)\n",
    "2. 避免整個模型產生到posterior collapse現象 (deoder部分過於強大導致潛在特徵沒有任何作用)\n",
    "3. 在多個資料集中VQVAE的表現能與原本的VAE相當\n",
    "4. 可依照資料性質調整prior模型 (還沒搞懂)"
   ]
  },
  {
   "cell_type": "markdown",
   "metadata": {},
   "source": [
    "---\n",
    "\n",
    "### VAE overview\n",
    "\n",
    "在進入VQVAE的模型之前還是先來簡單回顧VAE的架構 (雖然也有人評論VQVAE基本上不具有VAE的貝氏模型性質)\n",
    "\n",
    "AutoEncoder架構(Encoder - Decoder)中，除了直接以基本的全連接層/捲積層將特徵濃縮到維度較小的空間中，VAE希望訓練一個Encoder從原始的資料中估計此資料在潛在空間中分布形狀(通常假設為高斯分布，因此需要估計分布的平均數與標準差)，\n",
    "接著Decoder將會從這個分布中抽取一個樣本並盡量還原成原始資料。另外為了將不同類別的資料在潛在空間中盡量接近(避免overfitting)，在損失函數的設計上除了Reconstruction loss外也希望映射到潛在空間的資料分布盡量接近標準常態分佈。\n",
    "\n",
    "![image](./VQVAE_pic/vae-gaussian.png)"
   ]
  },
  {
   "cell_type": "markdown",
   "metadata": {},
   "source": [
    "## From VAE to VQVAE\n",
    "\n",
    "再來看看VQVAE的架構，可以看到它再度調整了潛在特徵的架構與生成方式。這邊使用普通的卷積層將原始資料萃取成(H_hid, W_hid, n_latent)的feature map，另外模型會產生一份codebook，其中包含了K個維度為n_latent的向量。根據每個位置上的特徵(維度同樣為n_latent)會去尋找最接近的codebook向量並將此位置的特徵取代為codebook上的索引，藉此達成作者所謂的\"categorical distribution\"的狀態。\n",
    "\n",
    "在decode的階段，decoder並不是以encoder原本產生的feature map做還原，而是從quantization後的feature map (每個位置上原本的向量將會被code book中最接近的向量取代)試圖還原成原始的圖片資料。可以想像一下，當模型訓練完後我們只需要保存Codebook本身、資料經過vector quantization後的潛在特徵、以及decoder模型即可還原所有影像，相較於原始圖像所佔的大小可省下不少空間。另外只要我們能夠產生latent feature map，我們也可以使用decoder生成圖像，在原始文獻中作者就提出了可以搭配pixelCNN或pixelRNN等自回歸生成模型作為生成latent feature map的手段。\n",
    "\n",
    "\n",
    "![image](VQVAE_pic/VQ-VAE.png)\n",
    "\n",
    "模型的細節與此模型中最重要的一個手法 Straight-through estimator則讓我們從以下的程式碼來帶大家看。"
   ]
  },
  {
   "cell_type": "markdown",
   "metadata": {},
   "source": [
    "---\n",
    "## 載入套件"
   ]
  },
  {
   "cell_type": "code",
   "execution_count": 1,
   "metadata": {},
   "outputs": [],
   "source": [
    "from __future__ import print_function\n",
    "\n",
    "import matplotlib.pyplot as plt\n",
    "import numpy as np\n",
    "\n",
    "from six.moves import xrange\n",
    "import umap\n",
    "import torch\n",
    "import torch.nn as nn\n",
    "import torch.nn.functional as F\n",
    "from torch.utils.data import DataLoader\n",
    "import torch.optim as optim\n",
    "\n",
    "import torchvision.datasets as datasets\n",
    "import torchvision.transforms as transforms\n",
    "from torchvision.utils import make_grid"
   ]
  },
  {
   "cell_type": "code",
   "execution_count": 2,
   "metadata": {},
   "outputs": [],
   "source": [
    "device = torch.device(\"cuda\" if torch.cuda.is_available() else \"cpu\")"
   ]
  },
  {
   "cell_type": "markdown",
   "metadata": {},
   "source": [
    "---\n",
    "## 讀取資料\n",
    "\n",
    "在這邊我們使用pytorch內建的CIFAR10資料集做示範，這邊pytorch已經幫我們切好訓練集與測試集(透過train參數做控制)。前處理的部分除了轉換為tensor型態外我們單純做了標準化(mean=0.5, std=1.0)的步驟。"
   ]
  },
  {
   "cell_type": "code",
   "execution_count": 3,
   "metadata": {},
   "outputs": [
    {
     "name": "stdout",
     "output_type": "stream",
     "text": [
      "Files already downloaded and verified\n",
      "Files already downloaded and verified\n"
     ]
    }
   ],
   "source": [
    "training_data = datasets.CIFAR10(root='data', train=True, download=True,\n",
    "                                 transform=transforms.Compose([\n",
    "                                     transforms.ToTensor(),\n",
    "                                     transforms.Normalize((0.5,0.5,0.5), (1.0,1.0,1.0))\n",
    "                                 ]))\n",
    "\n",
    "validation_data = datasets.CIFAR10(root='data', train=False, download=True,\n",
    "                                 transform=transforms.Compose([\n",
    "                                     transforms.ToTensor(),\n",
    "                                     transforms.Normalize((0.5,0.5,0.5), (1.0,1.0,1.0))\n",
    "                                 ]))"
   ]
  },
  {
   "cell_type": "code",
   "execution_count": null,
   "metadata": {},
   "outputs": [],
   "source": [
    "# 預先計算資料的變異程度，當作後續損失函數的其中一個 scaling factor (但個人認為影響不大)\n",
    "data_variance = np.var(training_data.data / 255.0)"
   ]
  },
  {
   "cell_type": "markdown",
   "metadata": {},
   "source": [
    "---\n",
    "\n",
    "接著我們開始建立模型與相關的模組"
   ]
  },
  {
   "cell_type": "markdown",
   "metadata": {},
   "source": [
    "## Encoder and Decoder Architecture"
   ]
  },
  {
   "cell_type": "code",
   "execution_count": 7,
   "metadata": {},
   "outputs": [],
   "source": [
    "class Residual(nn.Module):\n",
    "    def __init__(self, in_channels, num_hiddens, num_residual_hiddens):\n",
    "        super().__init__()\n",
    "        self._block = nn.Sequential(\n",
    "            nn.ReLU(True),\n",
    "            nn.Conv2d(in_channels=in_channels,\n",
    "                      out_channels=num_residual_hiddens,\n",
    "                      kernel_size=3, stride=1, padding=1, bias=False),\n",
    "            nn.ReLU(True),\n",
    "            nn.Conv2d(in_channels=num_residual_hiddens,\n",
    "                      out_channels=num_hiddens, kernel_size=1, stride=1, bias=False)\n",
    "        )\n",
    "    def forward(self, x):\n",
    "        return x + self._block(x)\n",
    "\n",
    "class ResidualStack(nn.Module):\n",
    "    def __init__(self, in_channels, num_hiddens, num_residual_layers, num_residual_hiddens):\n",
    "        super().__init__()\n",
    "        self._num_residual_layers = num_residual_layers\n",
    "        self._layers = nn.ModuleList([Residual(in_channels, num_hiddens, num_residual_hiddens)\n",
    "                                      for _ in range(self._num_residual_layers)])\n",
    "    \n",
    "    def forward(self, x):\n",
    "        for i in range(self._num_residual_layers):\n",
    "            x = self._layers[i](x)\n",
    "        return F.relu(x)"
   ]
  },
  {
   "cell_type": "code",
   "execution_count": 8,
   "metadata": {},
   "outputs": [],
   "source": [
    "class Encoder(nn.Module):\n",
    "    def __init__(self, in_channels, num_hiddens, num_residual_layers, num_residual_hiddens):\n",
    "        super().__init__()\n",
    "        \n",
    "        self._conv_1 = nn.Conv2d(in_channels=in_channels,\n",
    "                                 out_channels=num_hiddens//2,\n",
    "                                 kernel_size=4, stride=2, padding=1)\n",
    "        self._conv_2 = nn.Conv2d(in_channels=num_hiddens//2,\n",
    "                                 out_channels=num_hiddens,\n",
    "                                 kernel_size=4, stride=2, padding=1)\n",
    "        self._conv_3 = nn.Conv2d(in_channels=num_hiddens,\n",
    "                                 out_channels=num_hiddens,\n",
    "                                 kernel_size=3, stride=1, padding=1)\n",
    "        self._residual_stack = ResidualStack(in_channels=num_hiddens,\n",
    "                                             num_hiddens=num_hiddens,\n",
    "                                             num_residual_layers=num_residual_layers,\n",
    "                                             num_residual_hiddens=num_residual_hiddens)\n",
    "    \n",
    "    def forward(self, inputs):\n",
    "        x = self._conv_1(inputs)\n",
    "        x = F.relu(x)\n",
    "        \n",
    "        x = self._conv_2(x)\n",
    "        x = F.relu(x)\n",
    "        \n",
    "        x = self._conv_3(x)\n",
    "        return self._residual_stack(x)\n",
    "\n",
    "class Decoder(nn.Module):\n",
    "    def __init__(self, in_channels, out_channels, num_hiddens, num_residual_layers, num_residual_hiddens):\n",
    "        super().__init__()\n",
    "        \n",
    "        self._conv_1 = nn.Conv2d(in_channels=in_channels,\n",
    "                                 out_channels=num_hiddens,\n",
    "                                 kernel_size=3, stride=1, padding=1)\n",
    "        self._residual_stack = ResidualStack(in_channels=num_hiddens,\n",
    "                                             num_hiddens=num_hiddens,\n",
    "                                             num_residual_layers=num_residual_layers,\n",
    "                                             num_residual_hiddens=num_residual_hiddens)\n",
    "        self._conv_trans_1 = nn.ConvTranspose2d(in_channels=num_hiddens,\n",
    "                                                out_channels=num_hiddens//2,\n",
    "                                                kernel_size=4, stride=2, padding=1)\n",
    "        self._conv_trans_2 = nn.ConvTranspose2d(in_channels=num_hiddens//2,\n",
    "                                                out_channels=out_channels,\n",
    "                                                kernel_size=4, stride=2, padding=1)\n",
    "        \n",
    "    def forward(self, inputs):\n",
    "        x = self._conv_1(inputs)\n",
    "        x = self._residual_stack(x)\n",
    "        x = self._conv_trans_1(x)\n",
    "        x = F.relu(x)\n",
    "\n",
    "        return self._conv_trans_2(x)"
   ]
  },
  {
   "cell_type": "markdown",
   "metadata": {},
   "source": [
    "建立好encoder與decoder後，接下來我們來處理這一篇的特點Vector Quantization部分，在這邊我們也需要看一下VQVAE模型中的損失函數是如何定義的\n",
    "\n",
    "![image](VQVAE_pic/VQ-VAE.png)\n",
    "\n",
    "\n",
    "![image](./VQVAE_pic/vqvae_loss.PNG)"
   ]
  },
  {
   "cell_type": "markdown",
   "metadata": {},
   "source": [
    "搭配著模型架構與代稱作理解，首先第一個部分的loss為AutoEncoder家族常見的reconstruction loss (L中第一項)，然而在VQVAE模型中因為VQ步驟(argmin)無法微分，似乎無法將梯度傳到encoder去。\n",
    "在這邊作者使用了一個Straight Through Estimator的作法，也就是直接將Zq(x)的loss直接作為Ze(x)的loss(圖中紅線那條)。概念看起來很簡單暴力，但個人覺得實踐的手法比較讓人驚艷*\n",
    "第二個部分的loss則是為了調整codebook中的向量，這邊希望的是codebook與encoder產出的feature越接近越好，因此很直觀地直接使用l2norm 作為衡量差異的標準，另外為了使得codebook調整的多一些，把兩邊拆開並乘以先前提到的scaling factor - commitment cost"
   ]
  },
  {
   "cell_type": "markdown",
   "metadata": {},
   "source": [
    "## Vector Quantization"
   ]
  },
  {
   "cell_type": "code",
   "execution_count": 5,
   "metadata": {},
   "outputs": [],
   "source": [
    "# vector quantizer layer\n",
    "\n",
    "class VectorQuantizer(nn.Module):\n",
    "    def __init__(self, num_embeddings, embedding_dim, commitment_cost):\n",
    "        super(VectorQuantizer, self).__init__()\n",
    "        \n",
    "        self._embedding_dim = embedding_dim\n",
    "        self._num_embeddings = num_embeddings\n",
    "        self._embedding = nn.Embedding(self._num_embeddings, self._embedding_dim)\n",
    "        self._embedding.weight.data.uniform_(-1/self._num_embeddings, 1/self._num_embeddings)\n",
    "        self._commitment_cost = commitment_cost\n",
    "        \n",
    "    def forward(self, inputs):\n",
    "        # convert inputs from (B, C, H, W) to (B, H, W, C)\n",
    "        inputs = inputs.permute(0, 2, 3, 1).contiguous()\n",
    "        input_shape = inputs.shape\n",
    "        \n",
    "        # flatten input to 2D (B * H * W , C)\n",
    "        flat_input = inputs.view(-1, self._embedding_dim)\n",
    "        \n",
    "        # calculate distances (euclidean)\n",
    "        distances = (torch.sum(flat_input**2, dim=1, keepdim=True)\n",
    "                    + torch.sum(self._embedding.weight**2, dim=1)\n",
    "                    - 2 * torch.matmul(flat_input, self._embedding.weight.t()))\n",
    "        \n",
    "        # Encoding\n",
    "        encoding_indices = torch.argmin(distances, dim=1).unsqueeze(1)\n",
    "        encodings = torch.zeros(encoding_indices.shape[0], self._num_embeddings, device=inputs.device)\n",
    "        encodings.scatter_(1, encoding_indices, 1) # 針對axis=1的地方，將encoding_indices中的每個index位直改為1\n",
    "        \n",
    "        # Quantize and unflaten\n",
    "        quantized = torch.matmul(encodings, self._embedding.weight).view(input_shape) # 將上面的matrix與embedding_matrix相乘 後面的view應該也可以改成view_as(input)\n",
    "        \n",
    "        # Loss\n",
    "        e_latent_loss = F.mse_loss(quantized.detach(), inputs) # detach() 為了只取數值不與tensor連動 (grad) ?\n",
    "        q_latent_loss = F.mse_loss(quantized, inputs.detach()) # detach() 為了只取數值不與tensor連動 (grad) ?\n",
    "        loss = q_latent_loss + self._commitment_cost * e_latent_loss\n",
    "        \n",
    "        quantized = inputs + (quantized - inputs).detach()\n",
    "        avg_probs = torch.mean(encodings, dim=0) # 計算每個embedding被挑到的機率\n",
    "        perplexity = torch.exp(-torch.sum(avg_probs * torch.log(avg_probs + 1e-10)))\n",
    "        \n",
    "        # convert quantized from (B, H, W, C) to (B, C, H, W)\n",
    "        quantized = quantized.permute(0, 3, 1, 2)\n",
    "        \n",
    "        return loss, quantized.contiguous(), perplexity, encodings"
   ]
  },
  {
   "cell_type": "code",
   "execution_count": 6,
   "metadata": {},
   "outputs": [],
   "source": [
    "# skip VectorQuantizerEMA"
   ]
  },
  {
   "cell_type": "markdown",
   "metadata": {},
   "source": [
    "最後我們把整個模型的架構搭起來"
   ]
  },
  {
   "cell_type": "code",
   "execution_count": 9,
   "metadata": {},
   "outputs": [],
   "source": [
    "class Model(nn.Module):\n",
    "    def __init__(self, num_hiddens, num_residual_layers, num_residual_hiddens, num_embeddings,\n",
    "                 embedding_dim, commitment_cost, decay=0):\n",
    "        super().__init__()\n",
    "        self._encoder = Encoder(3, num_hiddens, num_residual_layers, num_residual_hiddens)\n",
    "        self._pre_vq_conv = nn.Conv2d(in_channels=num_hiddens, out_channels=embedding_dim, kernel_size=1, stride=1)\n",
    "        \n",
    "        # skip vectorquantizerEMA\n",
    "        self._vq_vae = VectorQuantizer(num_embeddings, embedding_dim, commitment_cost)\n",
    "        \n",
    "        self._decoder = Decoder(embedding_dim, 3, num_hiddens, num_residual_layers, num_residual_hiddens)\n",
    "    \n",
    "    def forward(self, x):\n",
    "        z = self._encoder(x)\n",
    "        z = self._pre_vq_conv(z)\n",
    "        loss, quantized, perplexity, _ = self._vq_vae(z)\n",
    "        x_recon = self._decoder(quantized)\n",
    "        \n",
    "        return loss, x_recon, perplexity"
   ]
  },
  {
   "cell_type": "markdown",
   "metadata": {},
   "source": [
    "## Training"
   ]
  },
  {
   "cell_type": "code",
   "execution_count": 10,
   "metadata": {},
   "outputs": [],
   "source": [
    "batch_size = 256\n",
    "num_training_updates = 15000\n",
    "\n",
    "num_hiddens = 128\n",
    "num_residual_hiddens = 32\n",
    "num_residual_layers = 2\n",
    "\n",
    "embedding_dim = 64\n",
    "num_embeddings = 512\n",
    "\n",
    "commitment_cost = 0.25\n",
    "decay = 0.99\n",
    "learning_rate = 1e-3"
   ]
  },
  {
   "cell_type": "code",
   "execution_count": 11,
   "metadata": {},
   "outputs": [],
   "source": [
    "training_loader = DataLoader(training_data, batch_size = batch_size, shuffle = True, pin_memory = True)\n",
    "validation_loader = DataLoader(validation_data, batch_size = batch_size, shuffle = True, pin_memory = True)"
   ]
  },
  {
   "cell_type": "code",
   "execution_count": 12,
   "metadata": {},
   "outputs": [],
   "source": [
    "model = Model(num_hiddens, num_residual_layers, num_residual_hiddens, num_embeddings, embedding_dim,\n",
    "              commitment_cost, decay).to(device)\n",
    "\n",
    "optimizer = optim.Adam(model.parameters(), lr=learning_rate, amsgrad=False)"
   ]
  },
  {
   "cell_type": "code",
   "execution_count": 13,
   "metadata": {},
   "outputs": [
    {
     "name": "stdout",
     "output_type": "stream",
     "text": [
      "100 iterations, recon_error : 0.742, perplexity: 1.797\n",
      "\n",
      "200 iterations, recon_error : 0.503, perplexity: 2.869\n",
      "\n",
      "300 iterations, recon_error : 0.336, perplexity: 5.683\n",
      "\n",
      "400 iterations, recon_error : 0.303, perplexity: 6.850\n",
      "\n",
      "500 iterations, recon_error : 0.297, perplexity: 7.124\n",
      "\n",
      "600 iterations, recon_error : 0.259, perplexity: 10.197\n",
      "\n",
      "700 iterations, recon_error : 0.228, perplexity: 14.536\n",
      "\n",
      "800 iterations, recon_error : 0.213, perplexity: 17.866\n",
      "\n",
      "900 iterations, recon_error : 0.202, perplexity: 21.915\n",
      "\n",
      "1000 iterations, recon_error : 0.193, perplexity: 26.941\n",
      "\n",
      "1100 iterations, recon_error : 0.182, perplexity: 31.876\n",
      "\n",
      "1200 iterations, recon_error : 0.175, perplexity: 37.022\n",
      "\n",
      "1300 iterations, recon_error : 0.168, perplexity: 41.806\n",
      "\n",
      "1400 iterations, recon_error : 0.159, perplexity: 46.669\n",
      "\n",
      "1500 iterations, recon_error : 0.153, perplexity: 50.642\n",
      "\n",
      "1600 iterations, recon_error : 0.148, perplexity: 55.123\n",
      "\n",
      "1700 iterations, recon_error : 0.143, perplexity: 58.870\n",
      "\n",
      "1800 iterations, recon_error : 0.139, perplexity: 63.096\n",
      "\n",
      "1900 iterations, recon_error : 0.135, perplexity: 67.246\n",
      "\n",
      "2000 iterations, recon_error : 0.132, perplexity: 71.149\n",
      "\n",
      "2100 iterations, recon_error : 0.128, perplexity: 75.362\n",
      "\n",
      "2200 iterations, recon_error : 0.124, perplexity: 79.037\n",
      "\n",
      "2300 iterations, recon_error : 0.119, perplexity: 81.895\n",
      "\n",
      "2400 iterations, recon_error : 0.115, perplexity: 84.796\n",
      "\n",
      "2500 iterations, recon_error : 0.112, perplexity: 87.712\n",
      "\n",
      "2600 iterations, recon_error : 0.108, perplexity: 91.179\n",
      "\n",
      "2700 iterations, recon_error : 0.104, perplexity: 94.769\n",
      "\n",
      "2800 iterations, recon_error : 0.102, perplexity: 97.979\n",
      "\n",
      "2900 iterations, recon_error : 0.100, perplexity: 101.461\n",
      "\n",
      "3000 iterations, recon_error : 0.098, perplexity: 104.603\n",
      "\n",
      "3100 iterations, recon_error : 0.096, perplexity: 108.650\n",
      "\n",
      "3200 iterations, recon_error : 0.094, perplexity: 112.284\n",
      "\n",
      "3300 iterations, recon_error : 0.094, perplexity: 115.905\n",
      "\n",
      "3400 iterations, recon_error : 0.092, perplexity: 119.479\n",
      "\n",
      "3500 iterations, recon_error : 0.092, perplexity: 122.249\n",
      "\n",
      "3600 iterations, recon_error : 0.090, perplexity: 125.532\n",
      "\n",
      "3700 iterations, recon_error : 0.089, perplexity: 127.744\n",
      "\n",
      "3800 iterations, recon_error : 0.089, perplexity: 130.769\n",
      "\n",
      "3900 iterations, recon_error : 0.088, perplexity: 133.960\n",
      "\n",
      "4000 iterations, recon_error : 0.087, perplexity: 136.672\n",
      "\n",
      "4100 iterations, recon_error : 0.086, perplexity: 140.158\n",
      "\n",
      "4200 iterations, recon_error : 0.086, perplexity: 143.216\n",
      "\n",
      "4300 iterations, recon_error : 0.085, perplexity: 146.773\n",
      "\n",
      "4400 iterations, recon_error : 0.085, perplexity: 149.168\n",
      "\n",
      "4500 iterations, recon_error : 0.083, perplexity: 152.840\n",
      "\n",
      "4600 iterations, recon_error : 0.083, perplexity: 156.043\n",
      "\n",
      "4700 iterations, recon_error : 0.082, perplexity: 158.548\n",
      "\n",
      "4800 iterations, recon_error : 0.081, perplexity: 161.661\n",
      "\n",
      "4900 iterations, recon_error : 0.081, perplexity: 165.157\n",
      "\n",
      "5000 iterations, recon_error : 0.081, perplexity: 168.498\n",
      "\n",
      "5100 iterations, recon_error : 0.079, perplexity: 171.929\n",
      "\n",
      "5200 iterations, recon_error : 0.079, perplexity: 175.237\n",
      "\n",
      "5300 iterations, recon_error : 0.078, perplexity: 179.200\n",
      "\n",
      "5400 iterations, recon_error : 0.077, perplexity: 183.234\n",
      "\n",
      "5500 iterations, recon_error : 0.077, perplexity: 186.224\n",
      "\n",
      "5600 iterations, recon_error : 0.075, perplexity: 190.454\n",
      "\n",
      "5700 iterations, recon_error : 0.074, perplexity: 193.434\n",
      "\n",
      "5800 iterations, recon_error : 0.074, perplexity: 196.328\n",
      "\n",
      "5900 iterations, recon_error : 0.073, perplexity: 200.163\n",
      "\n",
      "6000 iterations, recon_error : 0.072, perplexity: 202.768\n",
      "\n",
      "6100 iterations, recon_error : 0.073, perplexity: 206.533\n",
      "\n",
      "6200 iterations, recon_error : 0.072, perplexity: 208.477\n",
      "\n",
      "6300 iterations, recon_error : 0.071, perplexity: 211.285\n",
      "\n",
      "6400 iterations, recon_error : 0.071, perplexity: 214.098\n",
      "\n",
      "6500 iterations, recon_error : 0.070, perplexity: 217.372\n",
      "\n",
      "6600 iterations, recon_error : 0.072, perplexity: 220.452\n",
      "\n",
      "6700 iterations, recon_error : 0.071, perplexity: 223.844\n",
      "\n",
      "6800 iterations, recon_error : 0.070, perplexity: 226.958\n",
      "\n",
      "6900 iterations, recon_error : 0.069, perplexity: 229.232\n",
      "\n",
      "7000 iterations, recon_error : 0.070, perplexity: 232.236\n",
      "\n",
      "7100 iterations, recon_error : 0.068, perplexity: 235.668\n",
      "\n",
      "7200 iterations, recon_error : 0.069, perplexity: 239.911\n",
      "\n",
      "7300 iterations, recon_error : 0.068, perplexity: 242.322\n",
      "\n",
      "7400 iterations, recon_error : 0.069, perplexity: 246.094\n",
      "\n",
      "7500 iterations, recon_error : 0.068, perplexity: 249.694\n",
      "\n",
      "7600 iterations, recon_error : 0.068, perplexity: 252.420\n",
      "\n",
      "7700 iterations, recon_error : 0.068, perplexity: 254.740\n",
      "\n",
      "7800 iterations, recon_error : 0.067, perplexity: 257.560\n",
      "\n",
      "7900 iterations, recon_error : 0.067, perplexity: 260.624\n",
      "\n",
      "8000 iterations, recon_error : 0.067, perplexity: 263.722\n",
      "\n",
      "8100 iterations, recon_error : 0.066, perplexity: 267.986\n",
      "\n",
      "8200 iterations, recon_error : 0.066, perplexity: 270.220\n",
      "\n",
      "8300 iterations, recon_error : 0.066, perplexity: 274.620\n",
      "\n",
      "8400 iterations, recon_error : 0.065, perplexity: 276.682\n",
      "\n",
      "8500 iterations, recon_error : 0.065, perplexity: 280.243\n",
      "\n",
      "8600 iterations, recon_error : 0.064, perplexity: 283.306\n",
      "\n",
      "8700 iterations, recon_error : 0.064, perplexity: 287.495\n",
      "\n",
      "8800 iterations, recon_error : 0.064, perplexity: 289.931\n",
      "\n",
      "8900 iterations, recon_error : 0.065, perplexity: 292.894\n",
      "\n",
      "9000 iterations, recon_error : 0.064, perplexity: 295.900\n",
      "\n",
      "9100 iterations, recon_error : 0.064, perplexity: 299.686\n",
      "\n",
      "9200 iterations, recon_error : 0.063, perplexity: 302.685\n",
      "\n",
      "9300 iterations, recon_error : 0.063, perplexity: 306.030\n",
      "\n",
      "9400 iterations, recon_error : 0.063, perplexity: 309.397\n",
      "\n",
      "9500 iterations, recon_error : 0.063, perplexity: 311.980\n",
      "\n",
      "9600 iterations, recon_error : 0.063, perplexity: 314.254\n",
      "\n",
      "9700 iterations, recon_error : 0.062, perplexity: 316.685\n",
      "\n",
      "9800 iterations, recon_error : 0.062, perplexity: 320.078\n",
      "\n",
      "9900 iterations, recon_error : 0.062, perplexity: 322.975\n",
      "\n",
      "10000 iterations, recon_error : 0.061, perplexity: 326.715\n",
      "\n",
      "10100 iterations, recon_error : 0.062, perplexity: 328.493\n",
      "\n",
      "10200 iterations, recon_error : 0.060, perplexity: 331.397\n",
      "\n",
      "10300 iterations, recon_error : 0.061, perplexity: 334.476\n",
      "\n",
      "10400 iterations, recon_error : 0.060, perplexity: 334.976\n",
      "\n",
      "10500 iterations, recon_error : 0.060, perplexity: 339.109\n",
      "\n",
      "10600 iterations, recon_error : 0.060, perplexity: 342.457\n",
      "\n",
      "10700 iterations, recon_error : 0.060, perplexity: 345.971\n",
      "\n",
      "10800 iterations, recon_error : 0.059, perplexity: 347.453\n",
      "\n",
      "10900 iterations, recon_error : 0.059, perplexity: 349.556\n",
      "\n",
      "11000 iterations, recon_error : 0.059, perplexity: 352.481\n",
      "\n",
      "11100 iterations, recon_error : 0.059, perplexity: 354.049\n",
      "\n",
      "11200 iterations, recon_error : 0.059, perplexity: 357.687\n",
      "\n",
      "11300 iterations, recon_error : 0.058, perplexity: 359.405\n",
      "\n",
      "11400 iterations, recon_error : 0.058, perplexity: 361.495\n",
      "\n",
      "11500 iterations, recon_error : 0.058, perplexity: 365.306\n",
      "\n",
      "11600 iterations, recon_error : 0.058, perplexity: 366.690\n",
      "\n",
      "11700 iterations, recon_error : 0.058, perplexity: 371.231\n",
      "\n",
      "11800 iterations, recon_error : 0.058, perplexity: 374.280\n",
      "\n",
      "11900 iterations, recon_error : 0.057, perplexity: 376.491\n",
      "\n",
      "12000 iterations, recon_error : 0.057, perplexity: 378.804\n",
      "\n",
      "12100 iterations, recon_error : 0.057, perplexity: 381.035\n",
      "\n",
      "12200 iterations, recon_error : 0.057, perplexity: 384.611\n",
      "\n",
      "12300 iterations, recon_error : 0.057, perplexity: 388.019\n",
      "\n",
      "12400 iterations, recon_error : 0.057, perplexity: 389.239\n",
      "\n",
      "12500 iterations, recon_error : 0.056, perplexity: 392.079\n",
      "\n",
      "12600 iterations, recon_error : 0.057, perplexity: 394.408\n",
      "\n",
      "12700 iterations, recon_error : 0.056, perplexity: 398.114\n",
      "\n",
      "12800 iterations, recon_error : 0.056, perplexity: 400.200\n",
      "\n",
      "12900 iterations, recon_error : 0.056, perplexity: 403.220\n",
      "\n",
      "13000 iterations, recon_error : 0.057, perplexity: 406.494\n",
      "\n",
      "13100 iterations, recon_error : 0.056, perplexity: 409.248\n",
      "\n",
      "13200 iterations, recon_error : 0.056, perplexity: 411.436\n",
      "\n",
      "13300 iterations, recon_error : 0.056, perplexity: 414.229\n",
      "\n",
      "13400 iterations, recon_error : 0.055, perplexity: 414.946\n",
      "\n",
      "13500 iterations, recon_error : 0.055, perplexity: 419.247\n",
      "\n",
      "13600 iterations, recon_error : 0.055, perplexity: 421.635\n",
      "\n",
      "13700 iterations, recon_error : 0.055, perplexity: 424.017\n",
      "\n",
      "13800 iterations, recon_error : 0.055, perplexity: 427.561\n",
      "\n",
      "13900 iterations, recon_error : 0.055, perplexity: 429.427\n",
      "\n",
      "14000 iterations, recon_error : 0.056, perplexity: 432.601\n",
      "\n",
      "14100 iterations, recon_error : 0.055, perplexity: 433.317\n",
      "\n",
      "14200 iterations, recon_error : 0.055, perplexity: 432.647\n",
      "\n",
      "14300 iterations, recon_error : 0.054, perplexity: 433.099\n",
      "\n",
      "14400 iterations, recon_error : 0.054, perplexity: 432.340\n",
      "\n",
      "14500 iterations, recon_error : 0.054, perplexity: 432.098\n",
      "\n",
      "14600 iterations, recon_error : 0.054, perplexity: 431.903\n",
      "\n",
      "14700 iterations, recon_error : 0.054, perplexity: 431.288\n",
      "\n",
      "14800 iterations, recon_error : 0.054, perplexity: 431.827\n",
      "\n",
      "14900 iterations, recon_error : 0.054, perplexity: 430.092\n",
      "\n",
      "15000 iterations, recon_error : 0.054, perplexity: 430.433\n",
      "\n"
     ]
    }
   ],
   "source": [
    "# model.train()\n",
    "train_res_recon_error = []\n",
    "train_res_perplexity = []\n",
    "\n",
    "for i in xrange(num_training_updates):\n",
    "    (data, _) = next(iter(training_loader))\n",
    "    data = data.to(device)\n",
    "    optimizer.zero_grad()\n",
    "    \n",
    "    vq_loss, data_recon, perplexity = model(data)\n",
    "    recon_error = F.mse_loss(data_recon, data) / data_variance\n",
    "    loss = recon_error + vq_loss\n",
    "    loss.backward()\n",
    "    \n",
    "    optimizer.step()\n",
    "    \n",
    "    train_res_recon_error.append(recon_error.item())\n",
    "    train_res_perplexity.append(perplexity.item())\n",
    "    \n",
    "    if (i+1) % 100 ==0:\n",
    "        print('{:d} iterations, recon_error : {:.3f}, perplexity: {:.3f}\\r\\n'.format(i+1, np.mean(train_res_recon_error[-100:]), np.mean(train_res_perplexity[-100:])))\n",
    "\n",
    "PATH='saved_models/vqvae_params.pkl'\n",
    "torch.save(model.state_dict(), PATH)"
   ]
  },
  {
   "cell_type": "markdown",
   "metadata": {},
   "source": [
    "## Reconstructions"
   ]
  },
  {
   "cell_type": "code",
   "execution_count": 14,
   "metadata": {},
   "outputs": [],
   "source": [
    "# model.eval()\n",
    "(valid_originals, _) = next(iter(validation_loader))\n",
    "valid_originals = valid_originals.to(device)\n",
    "\n",
    "vq_output_eval = model._pre_vq_conv(model._encoder(valid_originals))\n",
    "_, valid_quantize, _, _ = model._vq_vae(vq_output_eval)\n",
    "valid_reconstructions = model._decoder(valid_quantize)"
   ]
  },
  {
   "cell_type": "code",
   "execution_count": 16,
   "metadata": {},
   "outputs": [],
   "source": [
    "def show(img):\n",
    "    npimg = img.numpy()\n",
    "    fig = plt.imshow(np.transpose(npimg, (1, 2, 0)), interpolation='nearest')\n",
    "    fig.axes.get_xaxis().set_visible(False)\n",
    "    fig.axes.get_yaxis().set_visible(False)"
   ]
  },
  {
   "cell_type": "code",
   "execution_count": 18,
   "metadata": {},
   "outputs": [
    {
     "name": "stderr",
     "output_type": "stream",
     "text": [
      "Clipping input data to the valid range for imshow with RGB data ([0..1] for floats or [0..255] for integers).\n"
     ]
    },
    {
     "data": {
      "image/png": "[encoded data removed]",
      "text/plain": [
       "<Figure size 432x288 with 1 Axes>"
      ]
     },
     "metadata": {
      "needs_background": "light"
     },
     "output_type": "display_data"
    }
   ],
   "source": [
    "show(make_grid(valid_reconstructions.cpu().data[:16,:,:,:])+0.5, )"
   ]
  },
  {
   "cell_type": "code",
   "execution_count": 19,
   "metadata": {},
   "outputs": [
    {
     "data": {
      "image/png": "[encoded data removed]",
      "text/plain": [
       "<Figure size 432x288 with 1 Axes>"
      ]
     },
     "metadata": {
      "needs_background": "light"
     },
     "output_type": "display_data"
    }
   ],
   "source": [
    "show(make_grid(valid_originals.cpu()[:16,:,:,:]+0.5))"
   ]
  },
  {
   "cell_type": "markdown",
   "metadata": {},
   "source": [
    "## View Embedding"
   ]
  },
  {
   "cell_type": "code",
   "execution_count": 20,
   "metadata": {},
   "outputs": [
    {
     "name": "stderr",
     "output_type": "stream",
     "text": [
      "/home/jovyan/.local/lib/python3.7/site-packages/umap/spectral.py:229: UserWarning: Embedding a total of 2 separate connected components using meta-embedding (experimental)\n",
      "  n_components\n"
     ]
    }
   ],
   "source": [
    "proj = umap.UMAP(n_neighbors=3,\n",
    "                 min_dist=0.1,\n",
    "                 metric='cosine').fit_transform(model._vq_vae._embedding.weight.data.cpu())"
   ]
  },
  {
   "cell_type": "code",
   "execution_count": 21,
   "metadata": {},
   "outputs": [
    {
     "data": {
      "text/plain": [
       "<matplotlib.collections.PathCollection at 0x7feac42d0fd0>"
      ]
     },
     "execution_count": 21,
     "metadata": {},
     "output_type": "execute_result"
    },
    {
     "data": {
      "image/png": "[encoded data removed]",
      "text/plain": [
       "<Figure size 432x288 with 1 Axes>"
      ]
     },
     "metadata": {
      "needs_background": "light"
     },
     "output_type": "display_data"
    }
   ],
   "source": [
    "plt.scatter(proj[:,0], proj[:,1], alpha=0.3)"
   ]
  }
 ],
 "metadata": {
  "kernelspec": {
   "display_name": "Python 3",
   "language": "python",
   "name": "python3"
  },
  "language_info": {
   "codemirror_mode": {
    "name": "ipython",
    "version": 3
   },
   "file_extension": ".py",
   "mimetype": "text/x-python",
   "name": "python",
   "nbconvert_exporter": "python",
   "pygments_lexer": "ipython3",
   "version": "3.7.3"
  }
 },
 "nbformat": 4,
 "nbformat_minor": 4
}
